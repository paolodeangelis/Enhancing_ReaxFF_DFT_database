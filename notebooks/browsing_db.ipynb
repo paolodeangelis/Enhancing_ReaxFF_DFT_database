{
 "cells": [
  {
   "attachments": {},
   "cell_type": "markdown",
   "metadata": {},
   "source": [
    "# Example of Browsing the ASE SQLite Database"
   ]
  },
  {
   "attachments": {},
   "cell_type": "markdown",
   "metadata": {},
   "source": [
    "The notebook provides an overview of browsing an [ASE SQLite3 database](https://wiki.fysik.dtu.dk/ase/ase/db/db.html). \n",
    "It covers connecting to the database, retrieving metadata, listing keys and descriptions, exploring possible values, accessing specific systems, and utilizing ASE functionality for analysis and visualization. "
   ]
  },
  {
   "attachments": {},
   "cell_type": "markdown",
   "metadata": {},
   "source": [
    "Import needed libraries for this notebook."
   ]
  },
  {
   "cell_type": "code",
   "execution_count": 133,
   "metadata": {},
   "outputs": [],
   "source": [
    "import sys\n",
    "import os\n",
    "import ase\n",
    "from ase.db import connect\n",
    "import pandas as pd\n",
    "\n",
    "import matplotlib.pyplot as plt\n",
    "\n",
    "# add father folder to allow to access the modules of this repository in `..\\tools`\n",
    "sys.path.append('..') \n",
    "from tools.db import get_yaml_metadata, get_unique_values\n",
    "\n",
    "plt.style.use(\"default\") # Set defoult style"
   ]
  },
  {
   "attachments": {},
   "cell_type": "markdown",
   "metadata": {},
   "source": [
    "## Load database"
   ]
  },
  {
   "attachments": {},
   "cell_type": "markdown",
   "metadata": {},
   "source": [
    "The code below connects to the database and retrieves metadata from the YAML file. \n",
    "\n",
    "It then prints the total number of systems stored in the database and lists the keys along with their descriptions."
   ]
  },
  {
   "cell_type": "code",
   "execution_count": 134,
   "metadata": {},
   "outputs": [],
   "source": [
    "# Connect to the database\n",
    "db = connect(os.path.join(\"..\", \"data\", \"LiF.db\"))\n",
    "\n",
    "# Get metadata from the YAML file\n",
    "metadata = get_yaml_metadata(os.path.join(\"..\", \"data\", \"LiF.yaml\"))"
   ]
  },
  {
   "cell_type": "code",
   "execution_count": 135,
   "metadata": {},
   "outputs": [
    {
     "name": "stdout",
     "output_type": "stream",
     "text": [
      "Total systems stored: 706\n",
      "\n",
      "KEY            | DESCRIPTION\n",
      "---------------|--------------------------------------------------------------------------------------------------------\n",
      "id             | Uniqe row ID\n",
      "ctime          | Creation time of the data (for simulation it coincide with the runtime)\n",
      "formula        | Chemical formula of the system\n",
      "pbc            | Periodic boundary conditions\n",
      "user           | Username or full name of the user who created the data\n",
      "calculator     | ASE-calculator name\n",
      "energy         | Total energy of the system from the calculation\n",
      "natoms         | Number of atoms\n",
      "fmax           | Maximum force\n",
      "smax           | Maximum stress on unit cell\n",
      "charge         | Net charge in unit cell\n",
      "mass           | Sum of atomic masses in unit cell\n",
      "magmom         | Magnetic moment\n",
      "unique_id      | Random (unique) ID\n",
      "volume         | Volume of unit cell\n",
      "functional     | Exchange-and-correlation functional\n",
      "fermi_energy   | Fermi Energy (N.B. is not the Fermi Level), which indicates the energy of non-interacting fermions in the system (Fermi gas) at 0 K\n",
      "homo_energy    | Highest Occupied Molecular Orbital energy\n",
      "lumo_energy    | Lowest Unoccupied Molecular Orbital energy\n",
      "band_gap       | Band gap energy (for LiF is the HOMO energy - LUMO energy)\n",
      "runtime        | Simulation start date\n",
      "elapsed        | Elapsed Time\n",
      "name           | System Name\n",
      "sim_name       | Simulation Name\n",
      "subset_name    | Name of the subset of configuration\n",
      "run_script     | Full AMS scrip for running the simulation\n",
      "input_script   | Full input scrip for running the simulation\n",
      "success        | Simulation end status\n",
      "used_in        | Indicate in which set the data was used\n",
      "task           | Simulation task\n",
      "space_group    | Full International Space Group Symbol. The notation is a LaTeX-like string, with screw axes being represented by an underscore.\n"
     ]
    }
   ],
   "source": [
    "# Print the total number of systems stored in the database\n",
    "print(f\"Total systems stored: {len(db):d}\", end=\"\\n\\n\")\n",
    "\n",
    "# Print the keys and their descriptions\n",
    "print(\"KEY\".ljust(15)  + \"| \" + \"DESCRIPTION\")\n",
    "print(\"-\"*15 + \"|\" + \"-\"*104)\n",
    "for k,v in metadata['keys'].items():\n",
    "    print(f\"{k}\".ljust(15) +'| ' + v['description'])\n",
    "    "
   ]
  },
  {
   "attachments": {},
   "cell_type": "markdown",
   "metadata": {},
   "source": [
    "## Select and get stored `Atoms`"
   ]
  },
  {
   "attachments": {},
   "cell_type": "markdown",
   "metadata": {},
   "source": [
    "The code below checks if there are fixed lists of values for the `subset_name`, `task`, and `space_group` keys. It prints the fixed values if they exist."
   ]
  },
  {
   "cell_type": "code",
   "execution_count": 136,
   "metadata": {},
   "outputs": [
    {
     "name": "stdout",
     "output_type": "stream",
     "text": [
      "subset_name: ['ab-initio md 300K', 'ab-initio md 500K', 'ab-initio md amorphous crystal', 'interstitial defects', 'pure elements unit cell', 'slabs', 'strained lattice', 'substitutional defects', 'supercell', 'unit cell', 'vacancy defects']\n",
      "task      : ['geometry optimization', 'geometry pre-optimization', 'initial configuration', 'single point']\n",
      "space_group: The space group notation in a LaTeX-like string, with screw axes being represented by an underscore. (see pymatgen.symmetry.groups.SpaceGroup (https://pymatgen.org/pymatgen.symmetry.groups.html#pymatgen.symmetry.groups.SpaceGroup))\n"
     ]
    }
   ],
   "source": [
    "# Check if there are fixed lists of values for specific keys\n",
    "for key in ['subset_name', 'task', 'space_group']:\n",
    "    value = metadata['keys'][key]['values']\n",
    "    if isinstance(value, str):\n",
    "        print(f'{key:<10s}: {value}')\n",
    "    elif isinstance(value, dict):\n",
    "        print(f'{key:<10s}: {list(value.keys())}')\n"
   ]
  },
  {
   "attachments": {},
   "cell_type": "markdown",
   "metadata": {},
   "source": [
    "Because there is not a list of possible value for the `space_group` we can tray to get directly from the database.\n",
    "\n",
    "The following code retrieves the unique values for the `space_group` key directly from the database using `get_unique_values` provided function."
   ]
  },
  {
   "cell_type": "code",
   "execution_count": 137,
   "metadata": {},
   "outputs": [
    {
     "data": {
      "text/plain": [
       "['C2c', 'Fm-3m', 'P6_3mc', 'Pm-3m', 'R-3m']"
      ]
     },
     "execution_count": 137,
     "metadata": {},
     "output_type": "execute_result"
    }
   ],
   "source": [
    "# Get unique values for 'space_group' directly from the database\n",
    "get_unique_values(db, 'space_group')"
   ]
  },
  {
   "attachments": {},
   "cell_type": "markdown",
   "metadata": {},
   "source": [
    "Now using the database method `select`, we are getting the desired rows from which we are getting the desired systems as ASE `Atoms` and storing them into a `list.`"
   ]
  },
  {
   "cell_type": "code",
   "execution_count": 138,
   "metadata": {},
   "outputs": [],
   "source": [
    "# Get desired systems from the database and store them in a list\n",
    "selection = []\n",
    "for row in db.select(subset_name='interstitial defects', task='geometry optimization', space_group='Fm-3m'):\n",
    "    selection.append(row.toatoms(add_additional_information=True))\n"
   ]
  },
  {
   "attachments": {},
   "cell_type": "markdown",
   "metadata": {},
   "source": [
    "## Exemple of `Atoms` manipulation"
   ]
  },
  {
   "attachments": {},
   "cell_type": "markdown",
   "metadata": {},
   "source": [
    "Now we can use alle the methods and function of the ASE library `Atoms` (for more info see https://wiki.fysik.dtu.dk/ase/index.html).\n",
    "\n",
    "For example the following code demonstrates accessing the ASE Atoms object from the selection and getting the calculated energy for a specific system."
   ]
  },
  {
   "cell_type": "code",
   "execution_count": 139,
   "metadata": {},
   "outputs": [
    {
     "name": "stdout",
     "output_type": "stream",
     "text": [
      "Tot. Energy for system 5.0-0-LiF_Fm-3m_-3.18_ni_0:\t-115.49074518921543 eV\n"
     ]
    }
   ],
   "source": [
    "# Access ASE Atoms and retrieve calculated energy\n",
    "atoms = selection[0]\n",
    "print(f\"Tot. Energy for system {atoms.info['key_value_pairs']['name']}:\\t{atoms.get_total_energy()} eV\")"
   ]
  },
  {
   "attachments": {},
   "cell_type": "markdown",
   "metadata": {},
   "source": [
    "Using ASE visualizer we can display the ending geometry of the simulation."
   ]
  },
  {
   "cell_type": "code",
   "execution_count": 140,
   "metadata": {},
   "outputs": [
    {
     "data": {
      "application/vnd.jupyter.widget-view+json": {
       "model_id": "5d3675b9cb4d4342a28d5b176a716a46",
       "version_major": 2,
       "version_minor": 0
      },
      "text/plain": [
       "HBox(children=(NGLWidget(), VBox(children=(Dropdown(description='Show', options=('All', 'Li', 'F'), value='All…"
      ]
     },
     "execution_count": 140,
     "metadata": {},
     "output_type": "execute_result"
    }
   ],
   "source": [
    "# Visualize the ending geometry of the simulation using ASE visualizer\n",
    "from ase.visualize import view\n",
    "view(atoms, viewer='ngl')"
   ]
  },
  {
   "attachments": {},
   "cell_type": "markdown",
   "metadata": {},
   "source": [
    "We can access all the additional data from the `Atoms` attribute `info`.\n",
    "For example, in the following code, we are going to access and plot the Density of States (DOS) stored in `data`."
   ]
  },
  {
   "cell_type": "code",
   "execution_count": 144,
   "metadata": {},
   "outputs": [
    {
     "data": {
      "image/png": "[encoded data removed]",
      "text/plain": [
       "<Figure size 720x480 with 1 Axes>"
      ]
     },
     "metadata": {},
     "output_type": "display_data"
    }
   ],
   "source": [
    "# Plot the Density of States (DOS) stored in the 'info' attribute of Atoms\n",
    "energy = atoms.info['data']['DOS']['Energy [eV]']\n",
    "dos = atoms.info['data']['DOS']['Total DOS [1/eV]']\n",
    "\n",
    "fig = plt.figure(figsize=[6, 4], dpi=120, facecolor=\"white\")\n",
    "\n",
    "with plt.style.context(\"seaborn-v0_8-white\"):\n",
    "    ax = fig.add_subplot(111)\n",
    "    ax.plot(energy, dos)\n",
    "    ax.set_ylabel('Total DOS [1/eV]')\n",
    "    ax.set_xlabel('Energy [eV]')\n",
    "\n",
    "plt.show()\n"
   ]
  }
 ],
 "metadata": {
  "kernelspec": {
   "display_name": "venv",
   "language": "python",
   "name": "python3"
  },
  "language_info": {
   "codemirror_mode": {
    "name": "ipython",
    "version": 3
   },
   "file_extension": ".py",
   "mimetype": "text/x-python",
   "name": "python",
   "nbconvert_exporter": "python",
   "pygments_lexer": "ipython3",
   "version": "3.10.10"
  },
  "orig_nbformat": 4
 },
 "nbformat": 4,
 "nbformat_minor": 2
}
