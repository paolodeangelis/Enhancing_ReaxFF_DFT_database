{
 "cells": [
  {
   "cell_type": "markdown",
   "metadata": {},
   "source": [
    "# Re-running a simulation of the database"
   ]
  },
  {
   "attachments": {},
   "cell_type": "markdown",
   "metadata": {},
   "source": [
    "This Jupyter Notebook is designed to re-run a simulation of a specific database entry using SCM's PLAMS package. The steps involved in the process are as follows:"
   ]
  },
  {
   "attachments": {},
   "cell_type": "markdown",
   "metadata": {},
   "source": [
    "## Run a simulasion usin SCM `PLAMS`"
   ]
  },
  {
   "attachments": {},
   "cell_type": "markdown",
   "metadata": {},
   "source": [
    "### Step 1: Importing the Required Libraries"
   ]
  },
  {
   "attachments": {},
   "cell_type": "markdown",
   "metadata": {},
   "source": [
    "First, we import the necessary libraries and modules, including `os`, `sys`, `matplotlib.pyplot`, `ase.db` from `ASE`, and various modules from `scm.plams`. Additionally, we add the path to the parent folder to allow access to the repository's modules."
   ]
  },
  {
   "cell_type": "code",
   "execution_count": 40,
   "metadata": {},
   "outputs": [],
   "source": [
    "import os\n",
    "import sys\n",
    "\n",
    "from ase.db import connect\n",
    "from scm.plams import AMSJob, Settings, config, finish, fromASE, init\n",
    "\n",
    "# add father folder to allow to access the modules of this repository in `..\\tools`\n",
    "sys.path.append(\"..\")\n",
    "from tools.db import add_to_db"
   ]
  },
  {
   "attachments": {},
   "cell_type": "markdown",
   "metadata": {},
   "source": [
    "### Step 2: Connecting to the Database\n",
    "\n",
    "We establish a connection to the database file located at `\"../data/LiF.db\"`.\n"
   ]
  },
  {
   "cell_type": "code",
   "execution_count": 4,
   "metadata": {},
   "outputs": [],
   "source": [
    "# Connect to the database\n",
    "db = connect(os.path.join(\"..\", \"data\", \"LiF.db\"))"
   ]
  },
  {
   "attachments": {},
   "cell_type": "markdown",
   "metadata": {},
   "source": [
    "### Step 3: Get a specific Simulation result and prepere it for the simulation\n",
    "\n",
    "To re-run a specific simulation, we need to retrieve the relevant entry from the database based on specific criteria. \n",
    "In alternative it is possible to load a new system directly from a file using ASE `Atoms` object, or PLASM `Molecule` object.\n",
    "In this example, we are retrieving the result for the stable LiF crystal structure with space group Fm-3m and 1 interstitial atom, using the criteria `subset_name`, `task`, `space_group`, and `natoms`.\n",
    "\n",
    "To browse and retrieve entries from the database using the Python interface, you can refer to the `browsing_sb.ipynb` notebook or the `README.md` file for more details.\n",
    "\n",
    "The following code snippet demonstrates how to retrieve the desired simulation result:\n"
   ]
  },
  {
   "cell_type": "code",
   "execution_count": 12,
   "metadata": {},
   "outputs": [
    {
     "name": "stdout",
     "output_type": "stream",
     "text": [
      "5.1-0-LiF_Fm-3m_-3.18_ni_1\n"
     ]
    }
   ],
   "source": [
    "# Get a specific simulation result from the database\n",
    "\n",
    "row = db.get(subset_name=\"interstitial defects\", task=\"geometry optimization\", space_group=\"Fm-3m\", natoms=25)\n",
    "\n",
    "# Print the simulation name get\n",
    "print(row.name)"
   ]
  },
  {
   "attachments": {},
   "cell_type": "markdown",
   "metadata": {},
   "source": [
    "<div class=\"alert alert-block alert-warning\">\n",
    "<b>Warning:</b> \n",
    "\n",
    "Make sure to adjust the criteria according to your specific simulation requirements.\n",
    "\n",
    "Once the desired result is obtained, you can proceed with the remaining steps to prepare and run the simulation.\n",
    "</div>"
   ]
  },
  {
   "attachments": {},
   "cell_type": "markdown",
   "metadata": {},
   "source": [
    "We convert the retrieved row to an ASE `Atoms` object"
   ]
  },
  {
   "cell_type": "code",
   "execution_count": 23,
   "metadata": {},
   "outputs": [
    {
     "name": "stdout",
     "output_type": "stream",
     "text": [
      "Atoms(symbols='Li13F12', pbc=True, cell=[[5.0011581428, 0.0, 2.88742], [1.6670527143, 4.7151371154, 2.88742], [0.0, 0.0, 8.662259999999998]], calculator=SinglePointCalculator(...))\n"
     ]
    }
   ],
   "source": [
    "# Get the ASE `Atoms` object\n",
    "atoms = row.toatoms()\n",
    "print(atoms)"
   ]
  },
  {
   "attachments": {},
   "cell_type": "markdown",
   "metadata": {},
   "source": [
    "We convert the ASE `Atoms` object to a PLAMS `Molecule` object."
   ]
  },
  {
   "cell_type": "code",
   "execution_count": 22,
   "metadata": {},
   "outputs": [
    {
     "name": "stdout",
     "output_type": "stream",
     "text": [
      "  Atoms: \n",
      "    1        Li       0.041422       0.007810      -0.038750 \n",
      "    2        Li      -0.012681      -0.204558       2.910880 \n",
      "    3        Li       0.011859      -0.019194       5.788982 \n",
      "    4        Li       0.938206       2.431588       1.263373 \n",
      "    5        Li       0.910682       2.412126       4.514320 \n",
      "    6        Li       0.845876       2.366301       7.209048 \n",
      "    7        Li       2.511341       0.007610       1.390495 \n",
      "    8        Li       2.469011      -0.022322       4.384582 \n",
      "    9        Li       2.480417      -0.014257       7.220685 \n",
      "   10        Li       3.355276       2.394019       2.848670 \n",
      "   11        Li       3.137020       2.413799       5.798300 \n",
      "   12        Li       3.319962       2.375147       8.676402 \n",
      "   13        Li       4.994207       1.763261       5.782333 \n",
      "   14         F       1.635423       1.187588       2.890077 \n",
      "   15         F       1.648685       1.217318       5.805550 \n",
      "   16         F       1.686816       1.209821       8.627823 \n",
      "   17         F       2.462002       3.509075       4.399907 \n",
      "   18         F       2.464938       3.511151       7.207552 \n",
      "   19         F       2.517294       3.548172      10.054278 \n",
      "   20         F       4.179940       1.187487       4.353119 \n",
      "   21         F       4.176248       1.184877       7.208665 \n",
      "   22         F       4.173824       1.183163      10.088999 \n",
      "   23         F       4.998915       3.503597       5.777497 \n",
      "   24         F       5.031365       3.506191       8.692970 \n",
      "   25         F       5.037008       3.544641      11.515243 \n",
      "  Lattice:\n",
      "        5.0011581428     0.0000000000     2.8874200000\n",
      "        1.6670527143     4.7151371154     2.8874200000\n",
      "        0.0000000000     0.0000000000     8.6622600000\n",
      "\n"
     ]
    }
   ],
   "source": [
    "# Convert it as PLASM `Molecule` object\n",
    "mol = fromASE(atoms)\n",
    "print(mol)"
   ]
  },
  {
   "attachments": {},
   "cell_type": "markdown",
   "metadata": {},
   "source": [
    "### Step 4: Setting up and Run the *AMS/BAND* Simulation with `PLASM`"
   ]
  },
  {
   "attachments": {},
   "cell_type": "markdown",
   "metadata": {},
   "source": [
    "To rerun, we extract the simulation settings from the retrieved row.\n",
    "We can use it as it is to perform the same simulation or change it if we want to use more accurate settings or compute additional settings."
   ]
  },
  {
   "cell_type": "code",
   "execution_count": 36,
   "metadata": {},
   "outputs": [
    {
     "name": "stdout",
     "output_type": "stream",
     "text": [
      "AMS: \t\n",
      "    task: \tGeometryOptimization\n",
      "    Properties: \t\n",
      "               Gradients: \tyes\n",
      "               StressTensor: \tno\n",
      "               Hessian: \tno\n",
      "               PESPointCharacter: \tno\n",
      "               ElasticTensor: \tno\n",
      "    GeometryOptimization: \t\n",
      "                         OptimizeLattice: \tno\n",
      "                         Convergence: \t\n",
      "                                     Energy: \t3.8087988488664447e-05\n",
      "                                     Gradients: \t0.3808798848866444\n",
      "                                     StressEnergyPerAtom: \t0.01904399424433222\n",
      "                                     Step: \t0.05\n",
      "                         PretendConverged: \tyes\n",
      "                         MaxIterations: \t20\n",
      "BAND: \t\n",
      "     basis: \t\n",
      "           type: \tDZP\n",
      "           Core: \tMedium\n",
      "     Dependency: \t\n",
      "                Core: \t0.8\n",
      "     xc: \t\n",
      "        GGA: \tPBE\n",
      "        MetaGGA: \tpostscf TPSS\n",
      "     scf: \t\n",
      "         mixing: \t0.3\n",
      "     numericalquality: \tNormal\n",
      "     beckegrid: \t\n",
      "               quality: \tNormal\n",
      "     CPVector: \t256\n",
      "     KGRPX: \t4\n",
      "\n"
     ]
    }
   ],
   "source": [
    "# Get the simulation setting from the row extracted\n",
    "setting = Settings(row.calculator_parameters[\"input\"])\n",
    "print(setting)"
   ]
  },
  {
   "attachments": {},
   "cell_type": "markdown",
   "metadata": {},
   "source": [
    "We update some of the simulation settings. In this example, we increase the maximum iterations for geometry optimization and enable the computation and storage of the elastic tensor."
   ]
  },
  {
   "cell_type": "code",
   "execution_count": 38,
   "metadata": {},
   "outputs": [
    {
     "name": "stdout",
     "output_type": "stream",
     "text": [
      "AMS: \t\n",
      "    task: \tGeometryOptimization\n",
      "    Properties: \t\n",
      "               Gradients: \tyes\n",
      "               StressTensor: \tno\n",
      "               Hessian: \tno\n",
      "               PESPointCharacter: \tno\n",
      "               ElasticTensor: \tyes\n",
      "    GeometryOptimization: \t\n",
      "                         OptimizeLattice: \tno\n",
      "                         Convergence: \t\n",
      "                                     Energy: \t3.8087988488664447e-05\n",
      "                                     Gradients: \t0.3808798848866444\n",
      "                                     StressEnergyPerAtom: \t0.01904399424433222\n",
      "                                     Step: \t0.05\n",
      "                         PretendConverged: \tyes\n",
      "                         MaxIterations: \t100\n",
      "BAND: \t\n",
      "     basis: \t\n",
      "           type: \tDZP\n",
      "           Core: \tMedium\n",
      "     Dependency: \t\n",
      "                Core: \t0.8\n",
      "     xc: \t\n",
      "        GGA: \tPBE\n",
      "        MetaGGA: \tpostscf TPSS\n",
      "     scf: \t\n",
      "         mixing: \t0.3\n",
      "     numericalquality: \tNormal\n",
      "     beckegrid: \t\n",
      "               quality: \tNormal\n",
      "     CPVector: \t256\n",
      "     KGRPX: \t4\n",
      "\n"
     ]
    }
   ],
   "source": [
    "# Update some settings to compute for escample the `ElasticTensor`\n",
    "setting.AMS.GeometryOptimization.MaxIterations = 100  # increse the GO iterations\n",
    "setting.AMS.Properties.ElasticTensor = \"yes\"  # Compute and store the Elstic Tensor\n",
    "print(setting)"
   ]
  },
  {
   "attachments": {},
   "cell_type": "markdown",
   "metadata": {},
   "source": [
    "Here we set the working directory, simulation name, and the number of cores to be used for the simulation."
   ]
  },
  {
   "cell_type": "code",
   "execution_count": null,
   "metadata": {},
   "outputs": [],
   "source": [
    "working_dir = os.path.join(\"simulation\", \"new_run\")\n",
    "simulation_name = row.name + \"_new\"\n",
    "ncores = 32"
   ]
  },
  {
   "attachments": {},
   "cell_type": "markdown",
   "metadata": {},
   "source": [
    "The following block initialize, configure, and run an *AMS/BAND* simulation using basic job workflow with `PLASM.` \n",
    "For advanced ,settings, see the PLASM documentation at https://www.scm.com/doc/plams/general.html"
   ]
  },
  {
   "cell_type": "code",
   "execution_count": null,
   "metadata": {},
   "outputs": [],
   "source": [
    "# SCM simulation initialization\n",
    "init(folder=working_dir)\n",
    "\n",
    "# Configuring the number of cores to be used for the simulation\n",
    "config.job.runscript.nproc = ncores\n",
    "config.job.runscript.shebang = r\"#!/bin/bash\"\n",
    "\n",
    "# Creating and run the simulation job using the PLAMS `AMSJob` class.\n",
    "job = AMSJob(molecule=mol, settings=setting, name=simulation_name)\n",
    "job.run()\n",
    "\n",
    "# Finishing\n",
    "finish()"
   ]
  },
  {
   "attachments": {},
   "cell_type": "markdown",
   "metadata": {},
   "source": [
    "### Step 3: Add the new simulation into the Database\n",
    "\n",
    "After the desired analysis, it is possible to store it in `LiF.db` database"
   ]
  },
  {
   "cell_type": "code",
   "execution_count": null,
   "metadata": {},
   "outputs": [],
   "source": [
    "# add the new datata to the database\n",
    "subset_name = \"interstitial defects (new)\"\n",
    "task = (\"geometry optimization\",)\n",
    "user = \"John Doe\"\n",
    "\n",
    "add_to_db(db, job, subset_name, task, user=user, add_ic=False, use_runtime=True)"
   ]
  }
 ],
 "metadata": {
  "kernelspec": {
   "display_name": "venv",
   "language": "python",
   "name": "python3"
  },
  "language_info": {
   "codemirror_mode": {
    "name": "ipython",
    "version": 3
   },
   "file_extension": ".py",
   "mimetype": "text/x-python",
   "name": "python",
   "nbconvert_exporter": "python",
   "pygments_lexer": "ipython3",
   "version": "3.10.10"
  },
  "orig_nbformat": 4
 },
 "nbformat": 4,
 "nbformat_minor": 2
}
